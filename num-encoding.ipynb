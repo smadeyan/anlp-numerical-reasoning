{
 "cells": [
  {
   "cell_type": "code",
   "execution_count": 2,
   "metadata": {},
   "outputs": [
    {
     "data": {
      "text/plain": [
       "'There are <se>3<de>three hundred and fifty<fe> people who are camping in an area of <se>3<de>seven hundred and sixty eight<fe> feet by <se>4<de>four thousand eight hundred<fe> feet, in <se>8.1<de>12864712.2<fe> feet of snow.'"
      ]
     },
     "execution_count": 2,
     "metadata": {},
     "output_type": "execute_result"
    }
   ],
   "source": [
    "import re\n",
    "from word2number import w2n\n",
    "\n",
    "def is_number(s):\n",
    "    pattern = r'^(\\d+)(\\.(\\d+))?$' #whole number or decimal\n",
    "    match = re.fullmatch(pattern, s)\n",
    "    return bool(match)\n",
    "\n",
    "\n",
    "def text_to_number(text):\n",
    "    \n",
    "    units = {\"zero\": 0, \"one\": 1, \"two\": 2, \"three\": 3, \"four\": 4, \"five\": 5, \"six\": 6, \"seven\": 7, \"eight\": 8, \"nine\": 9,\n",
    "             \"ten\": 10, \"eleven\": 11, \"twelve\": 12, \"thirteen\": 13, \"fourteen\": 14, \"fifteen\": 15, \"sixteen\": 16,\n",
    "             \"seventeen\": 17, \"eighteen\": 18, \"nineteen\": 19}\n",
    "    tens = {\"twenty\": 20, \"thirty\": 30, \"forty\": 40, \"fifty\": 50, \"sixty\": 60, \"seventy\": 70, \"eighty\": 80, \"ninety\": 90}\n",
    "    scales = {\"hundred\": 100, \"thousand\": 1000, \"million\": 1000000, \"billion\": 1000000000, \"trillion\": 1000000000000}\n",
    "\n",
    "    num_words = text.replace(\"-\", \" \").lower().split()\n",
    "    current = result = 0\n",
    "    for word in num_words:\n",
    "        if is_number(word):\n",
    "            current += float(word)\n",
    "        if word.isdigit():\n",
    "            current += int(word)\n",
    "        elif word in units:\n",
    "            current += units[word]\n",
    "        elif word in tens:\n",
    "            current += tens[word]\n",
    "        elif word in scales:\n",
    "            current *= scales[word]\n",
    "            if word == \"hundred\":\n",
    "                continue\n",
    "            result += current\n",
    "            current = 0\n",
    "    return result + current\n",
    "\n",
    "def encode_numbers_in_text(text):\n",
    "    num_word_pattern = re.compile(\n",
    "        r\"\\b(\\d+(\\.\\d+)?|zero|one|two|three|four|five|six|seven|eight|nine|ten|\"\n",
    "        r\"eleven|twelve|thirteen|fourteen|fifteen|sixteen|seventeen|eighteen|nineteen|\"\n",
    "        r\"twenty|thirty|forty|fifty|sixty|seventy|eighty|ninety|\"\n",
    "        r\"hundred|thousand|million|billion|trillion)\"\n",
    "        r\"(?:[-\\s]+(?:and)?[\\s]*(?:zero|one|two|three|four|five|six|seven|eight|nine|ten|\"\n",
    "        r\"eleven|twelve|thirteen|fourteen|fifteen|sixteen|seventeen|eighteen|nineteen|\"\n",
    "        r\"twenty|thirty|forty|fifty|sixty|seventy|eighty|ninety|hundred|thousand|million|billion|trillion))*\\b\",\n",
    "        re.IGNORECASE\n",
    "    )\n",
    "\n",
    "    def replace_func(match):\n",
    "        number_words = match.group(0)\n",
    "        try:\n",
    "            number = text_to_number(number_words)\n",
    "            # print(number)\n",
    "            digit_count = len(str(number))\n",
    "            if isinstance(number, int):\n",
    "                return f\"<se>{digit_count}<de>{number_words.strip()}<fe>\"\n",
    "            else:\n",
    "                num_str = str(number)\n",
    "                split_num_str = num_str.split('.')\n",
    "                whole_digits_len = len(split_num_str[0])\n",
    "                frac_digits_len = len(split_num_str[1])\n",
    "                decimal_digit_count = '.'.join([str(whole_digits_len), str(frac_digits_len)])\n",
    "                return f\"<se>{decimal_digit_count}<de>{number_words.strip()}<fe>\"\n",
    "        except Exception as e:\n",
    "            return number_words\n",
    "\n",
    "    encoded_text = re.sub(num_word_pattern, replace_func, text)\n",
    "    return encoded_text\n",
    "\n",
    "example_text = \"There are three hundred and fifty people who are camping in an area of seven hundred and sixty eight feet by four thousand eight hundred feet, in 12864712.2 feet of snow.\"\n",
    "encoded_text = encode_numbers_in_text(example_text)\n",
    "encoded_text"
   ]
  },
  {
   "cell_type": "code",
   "execution_count": null,
   "metadata": {},
   "outputs": [],
   "source": []
  }
 ],
 "metadata": {
  "kernelspec": {
   "display_name": "Python 3",
   "language": "python",
   "name": "python3"
  },
  "language_info": {
   "codemirror_mode": {
    "name": "ipython",
    "version": 3
   },
   "file_extension": ".py",
   "mimetype": "text/x-python",
   "name": "python",
   "nbconvert_exporter": "python",
   "pygments_lexer": "ipython3",
   "version": "3.9.12"
  }
 },
 "nbformat": 4,
 "nbformat_minor": 2
}
